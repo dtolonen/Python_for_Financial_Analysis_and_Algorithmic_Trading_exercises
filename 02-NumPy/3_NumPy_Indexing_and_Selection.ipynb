{
 "cells": [
  {
   "cell_type": "code",
   "execution_count": 2,
   "metadata": {},
   "outputs": [],
   "source": [
    "#2 Numpy Indexing and Selection"
   ]
  },
  {
   "cell_type": "code",
   "execution_count": 3,
   "metadata": {},
   "outputs": [],
   "source": [
    "import numpy as np"
   ]
  },
  {
   "cell_type": "code",
   "execution_count": 4,
   "metadata": {},
   "outputs": [],
   "source": [
    "arr = np.arange(0,11)"
   ]
  },
  {
   "cell_type": "code",
   "execution_count": 5,
   "metadata": {},
   "outputs": [
    {
     "data": {
      "text/plain": [
       "array([ 0,  1,  2,  3,  4,  5,  6,  7,  8,  9, 10])"
      ]
     },
     "execution_count": 5,
     "metadata": {},
     "output_type": "execute_result"
    }
   ],
   "source": [
    "arr"
   ]
  },
  {
   "cell_type": "code",
   "execution_count": 6,
   "metadata": {},
   "outputs": [],
   "source": [
    "# OK, let's talk about Bracket indexing and selection. The simplest\n",
    "# way to pick one or some elements in an array is exactly like we\n",
    "# did with a Python list. You can grab the array and use bracket\n",
    "# indexing to grab an index location, so for the element at index\n",
    "# 8, you ask for index 8."
   ]
  },
  {
   "cell_type": "code",
   "execution_count": 7,
   "metadata": {},
   "outputs": [
    {
     "data": {
      "text/plain": [
       "8"
      ]
     },
     "execution_count": 7,
     "metadata": {},
     "output_type": "execute_result"
    }
   ],
   "source": [
    "arr[8]"
   ]
  },
  {
   "cell_type": "code",
   "execution_count": 8,
   "metadata": {},
   "outputs": [
    {
     "data": {
      "text/plain": [
       "array([1, 2, 3, 4])"
      ]
     },
     "execution_count": 8,
     "metadata": {},
     "output_type": "execute_result"
    }
   ],
   "source": [
    "# for values in a range, use slice notation, which follows how\n",
    "# a python list works -  or even a python string.\n",
    "#You include the starting location, colon, \n",
    "# and a number UP TO, but not including, the last index. \n",
    "#So, here you should get 1 to 4.\n",
    "arr[1:5]"
   ]
  },
  {
   "cell_type": "code",
   "execution_count": 9,
   "metadata": {},
   "outputs": [
    {
     "data": {
      "text/plain": [
       "array([0, 1, 2, 3, 4])"
      ]
     },
     "execution_count": 9,
     "metadata": {},
     "output_type": "execute_result"
    }
   ],
   "source": [
    "# to get EVERYTHING up to but not including 5\n",
    "arr[:5]"
   ]
  },
  {
   "cell_type": "code",
   "execution_count": 10,
   "metadata": {},
   "outputs": [
    {
     "data": {
      "text/plain": [
       "array([ 3,  4,  5,  6,  7,  8,  9, 10])"
      ]
     },
     "execution_count": 10,
     "metadata": {},
     "output_type": "execute_result"
    }
   ],
   "source": [
    "#likewise, you can set a starting position and go all the way to \n",
    "#the end \n",
    "arr[3:]"
   ]
  },
  {
   "cell_type": "code",
   "execution_count": 11,
   "metadata": {},
   "outputs": [
    {
     "data": {
      "text/plain": [
       "array([ 0,  1,  2,  3,  4,  5,  6,  7,  8,  9, 10])"
      ]
     },
     "execution_count": 11,
     "metadata": {},
     "output_type": "execute_result"
    }
   ],
   "source": [
    "arr"
   ]
  },
  {
   "cell_type": "code",
   "execution_count": 13,
   "metadata": {},
   "outputs": [
    {
     "data": {
      "text/plain": [
       "array([100, 100, 100, 100, 100,   5,   6,   7,   8,   9,  10])"
      ]
     },
     "execution_count": 13,
     "metadata": {},
     "output_type": "execute_result"
    }
   ],
   "source": [
    "# broadcasting is another topic we're going to talk about. \n",
    "# Numpy arrays differ from a normal Python list bec of their\n",
    "# ability to 'broadcast'. In this array, you have the values\n",
    "# 0 through 10. What you can do is broadcast an array assignment.\n",
    "# you can actually grab a slice of this, eg 0 through 4, and set \n",
    "# that slice all equal to 100. And you can't do this with a normal \n",
    "# Python list. So, now if you ask for that array back, you end up\n",
    "#seeing that those first five elements are all the number 100. \n",
    "#This is known as 'broadcasting'.\n",
    "\n",
    "arr[0:5] = 100\n",
    "arr"
   ]
  },
  {
   "cell_type": "code",
   "execution_count": 14,
   "metadata": {},
   "outputs": [],
   "source": [
    "# we'll reset that array (note that the change is permanent, here)\n",
    "arr = np.arange(0,11)"
   ]
  },
  {
   "cell_type": "code",
   "execution_count": 15,
   "metadata": {},
   "outputs": [
    {
     "data": {
      "text/plain": [
       "array([ 0,  1,  2,  3,  4,  5,  6,  7,  8,  9, 10])"
      ]
     },
     "execution_count": 15,
     "metadata": {},
     "output_type": "execute_result"
    }
   ],
   "source": [
    "arr"
   ]
  },
  {
   "cell_type": "code",
   "execution_count": 19,
   "metadata": {},
   "outputs": [],
   "source": [
    "# It's important to note that if you have some sort of variable\n",
    "# that's assigned to a slice of an array eg.\n",
    "slice_of_arr = arr[0:6]"
   ]
  },
  {
   "cell_type": "code",
   "execution_count": 20,
   "metadata": {},
   "outputs": [
    {
     "data": {
      "text/plain": [
       "array([0, 1, 2, 3, 4, 5])"
      ]
     },
     "execution_count": 20,
     "metadata": {},
     "output_type": "execute_result"
    }
   ],
   "source": [
    "slice_of_arr \n",
    "# so, checking out slice_of_arr, we get those first elements."
   ]
  },
  {
   "cell_type": "code",
   "execution_count": 21,
   "metadata": {},
   "outputs": [
    {
     "data": {
      "text/plain": [
       "array([99, 99, 99, 99, 99, 99])"
      ]
     },
     "execution_count": 21,
     "metadata": {},
     "output_type": "execute_result"
    }
   ],
   "source": [
    "# if we reassign this as below\n",
    "# (note that [:] just means 'select everything'),\n",
    "# and check out our slice of the array, \n",
    "#everything is now set to 99.\n",
    "\n",
    "slice_of_arr[:] = 99\n",
    "slice_of_arr"
   ]
  },
  {
   "cell_type": "code",
   "execution_count": 22,
   "metadata": {},
   "outputs": [
    {
     "data": {
      "text/plain": [
       "array([99, 99, 99, 99, 99, 99,  6,  7,  8,  9, 10])"
      ]
     },
     "execution_count": 22,
     "metadata": {},
     "output_type": "execute_result"
    }
   ],
   "source": [
    "# now, if we check back in our original array, notice that\n",
    "# that slice was essentially only a pointer to that first half\n",
    "# of the array. So, it actually changes the original array as well.\n",
    "arr"
   ]
  },
  {
   "cell_type": "code",
   "execution_count": 24,
   "metadata": {},
   "outputs": [],
   "source": [
    "# So, we can see that the data is actually not copied, it's just\n",
    "# a view of the original array. the reason for this is to avoid\n",
    "# memory problems. Often, when working with Numpy and pandas,\n",
    "# which is built on top of Numpy, you're going to be working \n",
    "#with pretty large datasets, and you don't want every variable\n",
    "# assignment to create another copy of your dataset, otherwise\n",
    "# you would quickly run out of RAM if you had really large datasets.\n",
    "\n",
    "# Instead, if you explicitly wanted to copy, you need to say so, eg.\n"
   ]
  },
  {
   "cell_type": "code",
   "execution_count": 25,
   "metadata": {},
   "outputs": [],
   "source": [
    "arr_copy = arr.copy()"
   ]
  },
  {
   "cell_type": "code",
   "execution_count": 26,
   "metadata": {},
   "outputs": [
    {
     "data": {
      "text/plain": [
       "array([99, 99, 99, 99, 99, 99,  6,  7,  8,  9, 10])"
      ]
     },
     "execution_count": 26,
     "metadata": {},
     "output_type": "execute_result"
    }
   ],
   "source": [
    "arr"
   ]
  },
  {
   "cell_type": "code",
   "execution_count": 27,
   "metadata": {},
   "outputs": [
    {
     "data": {
      "text/plain": [
       "array([200, 200, 200, 200, 200, 200, 200, 200, 200, 200, 200])"
      ]
     },
     "execution_count": 27,
     "metadata": {},
     "output_type": "execute_result"
    }
   ],
   "source": [
    "# now, if we do something to copy, eg. grab everything [:] \n",
    "# and set it equal to 200, our array copy has been changed...\n",
    "\n",
    "arr_copy[:] = 200\n",
    "arr_copy"
   ]
  },
  {
   "cell_type": "code",
   "execution_count": 29,
   "metadata": {},
   "outputs": [],
   "source": [
    "# ... but our original array is still the same."
   ]
  },
  {
   "cell_type": "code",
   "execution_count": 30,
   "metadata": {},
   "outputs": [
    {
     "data": {
      "text/plain": [
       "array([99, 99, 99, 99, 99, 99,  6,  7,  8,  9, 10])"
      ]
     },
     "execution_count": 30,
     "metadata": {},
     "output_type": "execute_result"
    }
   ],
   "source": [
    "arr"
   ]
  },
  {
   "cell_type": "code",
   "execution_count": 31,
   "metadata": {},
   "outputs": [],
   "source": [
    "# So, explicitly call 'copy' if you want a copy of your array."
   ]
  },
  {
   "cell_type": "code",
   "execution_count": 33,
   "metadata": {},
   "outputs": [],
   "source": [
    "# OK, let's talk about indexing a two dimensional array, \n",
    "# otherwise known as a matrix. The general X is as follows:\n",
    "# eg. mat (for matrix)... mat[1, 2] for the row you want to index,\n",
    "# then the column you want to index. The other way to do this is\n",
    "# to split it into steps, so mat [row][col].\n",
    "# Eg. we'll create an object called mat, and say that it's an \n",
    "# np.array, and make it a nested list, so passing in \n",
    "# the nested list items.\n",
    "\n",
    "mat = np.array([[5,10,15],[20,25,30],[35,40,45]])"
   ]
  },
  {
   "cell_type": "code",
   "execution_count": 34,
   "metadata": {},
   "outputs": [
    {
     "data": {
      "text/plain": [
       "array([[ 5, 10, 15],\n",
       "       [20, 25, 30],\n",
       "       [35, 40, 45]])"
      ]
     },
     "execution_count": 34,
     "metadata": {},
     "output_type": "execute_result"
    }
   ],
   "source": [
    "# to get back a matrix that looks like this\n",
    "# lots of ways we could have done this matrix, \n",
    "# this is just the simplest, doing it manually.\n",
    "mat"
   ]
  },
  {
   "cell_type": "code",
   "execution_count": 35,
   "metadata": {},
   "outputs": [
    {
     "data": {
      "text/plain": [
       "array([ 5, 10, 15])"
      ]
     },
     "execution_count": 35,
     "metadata": {},
     "output_type": "execute_result"
    }
   ],
   "source": [
    "# let's say we want to index an entire row. We use mat, square\n",
    "# brackets, and ask for the index position for the row we want.\n",
    "# So, if we want the first row, we just pass in [0] and it returns\n",
    "# the first row. [2] for the last row etc.\n",
    "mat[0]"
   ]
  },
  {
   "cell_type": "code",
   "execution_count": 36,
   "metadata": {},
   "outputs": [
    {
     "data": {
      "text/plain": [
       "array([35, 40, 45])"
      ]
     },
     "execution_count": 36,
     "metadata": {},
     "output_type": "execute_result"
    }
   ],
   "source": [
    "mat[2]"
   ]
  },
  {
   "cell_type": "code",
   "execution_count": 37,
   "metadata": {},
   "outputs": [
    {
     "data": {
      "text/plain": [
       "25"
      ]
     },
     "execution_count": 37,
     "metadata": {},
     "output_type": "execute_result"
    }
   ],
   "source": [
    "# to grab an individual element value - there are two ways - eg.\n",
    "# the value 25. We can do mat[row position] and then \n",
    "# enter [column position], so eg. mat[1][1]\n",
    "mat [1][1]"
   ]
  },
  {
   "cell_type": "code",
   "execution_count": 38,
   "metadata": {},
   "outputs": [
    {
     "data": {
      "text/plain": [
       "25"
      ]
     },
     "execution_count": 38,
     "metadata": {},
     "output_type": "execute_result"
    }
   ],
   "source": [
    "# More commonly, you'll see this done in one step:\n",
    "mat[1,1]\n",
    "# You'll see this common notation used in the documentation, \n",
    "# instead of the dual brackets, because this common notation \n",
    "# will also expand to slice notation. "
   ]
  },
  {
   "cell_type": "code",
   "execution_count": 40,
   "metadata": {},
   "outputs": [
    {
     "data": {
      "text/plain": [
       "30"
      ]
     },
     "execution_count": 40,
     "metadata": {},
     "output_type": "execute_result"
    }
   ],
   "source": [
    "# Try it again, picking a number and see if you can index it out\n",
    "# using this common notation. Choosing '30'.\n",
    "mat[1, 2]"
   ]
  },
  {
   "cell_type": "code",
   "execution_count": 41,
   "metadata": {},
   "outputs": [
    {
     "data": {
      "text/plain": [
       "15"
      ]
     },
     "execution_count": 41,
     "metadata": {},
     "output_type": "execute_result"
    }
   ],
   "source": [
    "# For '15', it would be:\n",
    "mat[0,2]"
   ]
  },
  {
   "cell_type": "code",
   "execution_count": 42,
   "metadata": {},
   "outputs": [
    {
     "data": {
      "text/plain": [
       "array([[ 5, 10, 15],\n",
       "       [20, 25, 30],\n",
       "       [35, 40, 45]])"
      ]
     },
     "execution_count": 42,
     "metadata": {},
     "output_type": "execute_result"
    }
   ],
   "source": [
    "# Let's look at 2d array slicing. Going back to our matrix again.\n",
    "mat"
   ]
  },
  {
   "cell_type": "code",
   "execution_count": 43,
   "metadata": {},
   "outputs": [
    {
     "data": {
      "text/plain": [
       "array([[10, 15],\n",
       "       [25, 30]])"
      ]
     },
     "execution_count": 43,
     "metadata": {},
     "output_type": "execute_result"
    }
   ],
   "source": [
    "# Let's say we want to grab 10, 15 in first row, 25, 30 in second\n",
    "# row. So, we're grabbing a little square within the larger matrix.\n",
    "\n",
    "# So, we do this by saying the rows we want, as a slice. \n",
    "# Basically, we want everything from the first row, zero, \n",
    "# up to, but not including index 2. \n",
    "# That's mat[:2,]\n",
    "# \"So, that's rows zero and one.\" (why one, too?)\n",
    "# Then, we want the similar aspect of the columns themselves.\n",
    "# For the columns, we want to start at column index 1 and\n",
    "# go all the way to the end. \n",
    "# That's mat[:2, 1:]\n",
    "\n",
    "mat[:2, 1:]"
   ]
  },
  {
   "cell_type": "code",
   "execution_count": 46,
   "metadata": {},
   "outputs": [
    {
     "data": {
      "text/plain": [
       "array([[20, 25],\n",
       "       [35, 40]])"
      ]
     },
     "execution_count": 46,
     "metadata": {},
     "output_type": "execute_result"
    }
   ],
   "source": [
    "# Go ahead and pick another square and see if you can index it.\n",
    "# 20,25\n",
    "# 35,40\n",
    "\n",
    "mat[1:,:2]\n",
    "# first, I did mat[1:,:3] and it was too wide."
   ]
  },
  {
   "cell_type": "code",
   "execution_count": 48,
   "metadata": {},
   "outputs": [
    {
     "data": {
      "text/plain": [
       "array([ 1,  2,  3,  4,  5,  6,  7,  8,  9, 10])"
      ]
     },
     "execution_count": 48,
     "metadata": {},
     "output_type": "execute_result"
    }
   ],
   "source": [
    "# Your Jupyter notebook will have a couple more help examples, \n",
    "# We won't do these too often (the syntax), \n",
    "# bec we'll use Pandas + named indices, but this was just to \n",
    "# get your brain into the mode of thinking \n",
    "# in two dimensional slicing. \n",
    "\n",
    "# Instead, what we'll be using, next, is something called \n",
    "# conditional selection, a really fundamental concept that will\n",
    "# directly translate to Pandas in the next section.  \n",
    "\n",
    "# Conditional Selection\n",
    "arr = np.arange(1,11)\n",
    "arr"
   ]
  },
  {
   "cell_type": "code",
   "execution_count": 49,
   "metadata": {},
   "outputs": [
    {
     "data": {
      "text/plain": [
       "array([False, False, False, False,  True,  True,  True,  True,  True,\n",
       "        True])"
      ]
     },
     "execution_count": 49,
     "metadata": {},
     "output_type": "execute_result"
    }
   ],
   "source": [
    "# let's imagine that I wanted to grab elements off this array,\n",
    "# based on some sort of comparison operator eg. I wanted to \n",
    "# grab every element that was greater than four. \n",
    "# The process for doing this is the following: I can actually\n",
    "# compare my entire array to the number four ie. \n",
    "# 'where is this array greater than four?' \n",
    "arr > 4"
   ]
  },
  {
   "cell_type": "code",
   "execution_count": 50,
   "metadata": {},
   "outputs": [],
   "source": [
    "# It returns back this array of boolean values, where the first \n",
    "# four - NB including 4 - are not greater than four, and the ones\n",
    "# after are greater than four. (NB his Jupyter notebook's last\n",
    "# element was 'dtype=bool', which I didn't have). \n",
    "# Then, I can assign this result to a new boolean array\n",
    "\n",
    "bool_arr = arr > 4"
   ]
  },
  {
   "cell_type": "code",
   "execution_count": 51,
   "metadata": {},
   "outputs": [
    {
     "data": {
      "text/plain": [
       "array([ 5,  6,  7,  8,  9, 10])"
      ]
     },
     "execution_count": 51,
     "metadata": {},
     "output_type": "execute_result"
    }
   ],
   "source": [
    "# and then I can grab my original array and pass in that array\n",
    "# of boolean values. What it ends up doing is it only returns \n",
    "# the array where the boolean values happen to be true. So, it \n",
    "# ends up returning only the values where the index location \n",
    "# matches 'True.' \n",
    "\n",
    "arr[bool_arr]"
   ]
  },
  {
   "cell_type": "code",
   "execution_count": 52,
   "metadata": {},
   "outputs": [
    {
     "data": {
      "text/plain": [
       "array([ 5,  6,  7,  8,  9, 10])"
      ]
     },
     "execution_count": 52,
     "metadata": {},
     "output_type": "execute_result"
    }
   ],
   "source": [
    "# Commonly, though, you don't separate this into three steps.\n",
    "# Instead, you grab your array: arr[]\n",
    "# and say 'OK, give me back where the array is greater than four':\n",
    "# arr[arr > 4]\n",
    "# and you get this sort of notation, where you see arr(ay) twice. \n",
    "# And, as a result, you get the same thing, but this is what is  \n",
    "# more commonly done when you're working with Numpy and Pandas. \n",
    "# It's know as Conditional Selection. \n",
    "\n",
    "arr[arr>4]"
   ]
  },
  {
   "cell_type": "code",
   "execution_count": 53,
   "metadata": {},
   "outputs": [
    {
     "data": {
      "text/plain": [
       "array([1, 2, 3, 4, 5, 6, 7, 8, 9])"
      ]
     },
     "execution_count": 53,
     "metadata": {},
     "output_type": "execute_result"
    }
   ],
   "source": [
    "# You can do the same thing with any sort of comparison operator.\n",
    "# eg.\n",
    "arr[arr <= 9]"
   ]
  },
  {
   "cell_type": "code",
   "execution_count": null,
   "metadata": {},
   "outputs": [],
   "source": [
    "# That's the basics of selection and indexing with NumPy."
   ]
  }
 ],
 "metadata": {
  "kernelspec": {
   "display_name": "Python 3",
   "language": "python",
   "name": "python3"
  },
  "language_info": {
   "codemirror_mode": {
    "name": "ipython",
    "version": 3
   },
   "file_extension": ".py",
   "mimetype": "text/x-python",
   "name": "python",
   "nbconvert_exporter": "python",
   "pygments_lexer": "ipython3",
   "version": "3.7.3"
  }
 },
 "nbformat": 4,
 "nbformat_minor": 4
}
